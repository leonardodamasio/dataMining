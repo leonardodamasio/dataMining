{
 "cells": [
  {
   "cell_type": "code",
   "execution_count": 1,
   "metadata": {},
   "outputs": [],
   "source": [
    "import matplotlib.pyplot as plt\n",
    "import nltk\n",
    "from nltk.corpus import PlaintextCorpusReader, stopwords\n",
    "from matplotlib.colors import ListedColormap\n",
    "from wordcloud import WordCloud\n",
    "import string"
   ]
  },
  {
   "cell_type": "code",
   "execution_count": 2,
   "metadata": {},
   "outputs": [],
   "source": [
    "#nltk.download()"
   ]
  },
  {
   "cell_type": "code",
   "execution_count": 3,
   "metadata": {},
   "outputs": [],
   "source": [
    "corpus = PlaintextCorpusReader(\"corpus\", \".*\")"
   ]
  },
  {
   "cell_type": "code",
   "execution_count": 4,
   "metadata": {},
   "outputs": [
    {
     "data": {
      "text/plain": [
       "['1.txt',\n",
       " '10.txt',\n",
       " '100.txt',\n",
       " '1000.txt',\n",
       " '1001.txt',\n",
       " '1002.txt',\n",
       " '1003.txt',\n",
       " '1004.txt',\n",
       " '1005.txt',\n",
       " '1006.txt']"
      ]
     },
     "execution_count": 4,
     "metadata": {},
     "output_type": "execute_result"
    }
   ],
   "source": [
    "arquivos = corpus.fileids()\n",
    "arquivos[0:10]"
   ]
  },
  {
   "cell_type": "code",
   "execution_count": 5,
   "metadata": {},
   "outputs": [
    {
     "data": {
      "text/plain": [
       "1558"
      ]
     },
     "execution_count": 5,
     "metadata": {},
     "output_type": "execute_result"
    }
   ],
   "source": [
    "len(arquivos)"
   ]
  },
  {
   "cell_type": "code",
   "execution_count": 6,
   "metadata": {},
   "outputs": [
    {
     "data": {
      "text/plain": [
       "\"@relation 'Reuters-21578 Corn ModApte Train-weka.filters.unsupervised.attribute.NumericToBinary-weka.filters.unsupervised.instance.RemoveFolds-S0-N5-F1'\\r\\n\""
      ]
     },
     "execution_count": 6,
     "metadata": {},
     "output_type": "execute_result"
    }
   ],
   "source": [
    "texto = corpus.raw(\"1.txt\")\n",
    "texto"
   ]
  },
  {
   "cell_type": "code",
   "execution_count": 7,
   "metadata": {},
   "outputs": [
    {
     "data": {
      "text/plain": [
       "\"@relation 'Reuters-21578 Corn ModApte Train-weka.filters.unsupervised.attribute.NumericToBinary-weka.filters.unsupervised.instance.RemoveFolds-S0-N5-F1'\\r\\n'COBANCO INC &lt;CBCO> YEAR NET Shr 34 cts vs 1.19 dlrs\\r\\n    Net 807,000 vs 2,858,000\\r\\n    Assets 510.2 mln vs 479.7 mln\\r\\n    Deposits 472.3 mln vs 440.3 mln\\r\\n    Loans 299.2 mln vs 327.2 mln\\r\\n    Note: 4th qtr not available. Year includes 1985\\r\\nextraordinary gain from tax carry forward of 132,000 dlrs, or\\r\\nfive cts per shr.\\r\\n Reuter\\r\\n&#3;',0\\r\\n'NORTHERN TELECOM LTD &lt;NT> DECLARES STOCK SPLIT Two-for-one stock split\\r\\n    Pay May 12\\r\\n    Note: split is subject to approval of shareholders at April\\r\\n23 annual meeting.\\r\\n    Company also said it will increase dividend on post-split\\r\\nshares to six cts from five cts.\\r\\n Reuter\\r\\n&#3;',0\\r\\n'BHP TO FLOAT GOLD UNIT WITH ONE-FOR-THREE ISSUE The Broken Hill Pty Co Ltd &lt;BRKN.S>\\r\\n(BHP) said it plans a renounceable one-for-three issue of\\r\\nrights to float a new company, &lt;BHP Gold Mines Ltd> (BHPG\""
      ]
     },
     "execution_count": 7,
     "metadata": {},
     "output_type": "execute_result"
    }
   ],
   "source": [
    "texto_inteiro = corpus.raw()\n",
    "texto_inteiro[0:1000]"
   ]
  },
  {
   "cell_type": "code",
   "execution_count": 8,
   "metadata": {},
   "outputs": [
    {
     "data": {
      "text/plain": [
       "['@', 'relation', \"'\", 'Reuters', '-', '21578', 'Corn', ...]"
      ]
     },
     "execution_count": 8,
     "metadata": {},
     "output_type": "execute_result"
    }
   ],
   "source": [
    "palavras = corpus.words()\n",
    "palavras"
   ]
  },
  {
   "cell_type": "code",
   "execution_count": 9,
   "metadata": {},
   "outputs": [
    {
     "data": {
      "text/plain": [
       "['@',\n",
       " 'relation',\n",
       " \"'\",\n",
       " 'Reuters',\n",
       " '-',\n",
       " '21578',\n",
       " 'Corn',\n",
       " 'ModApte',\n",
       " 'Train',\n",
       " '-',\n",
       " 'weka',\n",
       " '.',\n",
       " 'filters',\n",
       " '.',\n",
       " 'unsupervised',\n",
       " '.',\n",
       " 'attribute',\n",
       " '.',\n",
       " 'NumericToBinary',\n",
       " '-']"
      ]
     },
     "execution_count": 9,
     "metadata": {},
     "output_type": "execute_result"
    }
   ],
   "source": [
    "palavras[0:20]"
   ]
  },
  {
   "cell_type": "code",
   "execution_count": 10,
   "metadata": {},
   "outputs": [
    {
     "data": {
      "text/plain": [
       "244913"
      ]
     },
     "execution_count": 10,
     "metadata": {},
     "output_type": "execute_result"
    }
   ],
   "source": [
    "len(palavras)"
   ]
  },
  {
   "cell_type": "code",
   "execution_count": 11,
   "metadata": {},
   "outputs": [
    {
     "data": {
      "text/plain": [
       "['de',\n",
       " 'a',\n",
       " 'o',\n",
       " 'que',\n",
       " 'e',\n",
       " 'é',\n",
       " 'do',\n",
       " 'da',\n",
       " 'em',\n",
       " 'um',\n",
       " 'para',\n",
       " 'com',\n",
       " 'não',\n",
       " 'uma',\n",
       " 'os',\n",
       " 'no',\n",
       " 'se',\n",
       " 'na',\n",
       " 'por',\n",
       " 'mais',\n",
       " 'as',\n",
       " 'dos',\n",
       " 'como',\n",
       " 'mas',\n",
       " 'ao',\n",
       " 'ele',\n",
       " 'das',\n",
       " 'à',\n",
       " 'seu',\n",
       " 'sua',\n",
       " 'ou',\n",
       " 'quando',\n",
       " 'muito',\n",
       " 'nos',\n",
       " 'já',\n",
       " 'eu',\n",
       " 'também',\n",
       " 'só',\n",
       " 'pelo',\n",
       " 'pela',\n",
       " 'até',\n",
       " 'isso',\n",
       " 'ela',\n",
       " 'entre',\n",
       " 'depois',\n",
       " 'sem',\n",
       " 'mesmo',\n",
       " 'aos',\n",
       " 'seus',\n",
       " 'quem',\n",
       " 'nas',\n",
       " 'me',\n",
       " 'esse',\n",
       " 'eles',\n",
       " 'você',\n",
       " 'essa',\n",
       " 'num',\n",
       " 'nem',\n",
       " 'suas',\n",
       " 'meu',\n",
       " 'às',\n",
       " 'minha',\n",
       " 'numa',\n",
       " 'pelos',\n",
       " 'elas',\n",
       " 'qual',\n",
       " 'nós',\n",
       " 'lhe',\n",
       " 'deles',\n",
       " 'essas',\n",
       " 'esses',\n",
       " 'pelas',\n",
       " 'este',\n",
       " 'dele',\n",
       " 'tu',\n",
       " 'te',\n",
       " 'vocês',\n",
       " 'vos',\n",
       " 'lhes',\n",
       " 'meus',\n",
       " 'minhas',\n",
       " 'teu',\n",
       " 'tua',\n",
       " 'teus',\n",
       " 'tuas',\n",
       " 'nosso',\n",
       " 'nossa',\n",
       " 'nossos',\n",
       " 'nossas',\n",
       " 'dela',\n",
       " 'delas',\n",
       " 'esta',\n",
       " 'estes',\n",
       " 'estas',\n",
       " 'aquele',\n",
       " 'aquela',\n",
       " 'aqueles',\n",
       " 'aquelas',\n",
       " 'isto',\n",
       " 'aquilo',\n",
       " 'estou',\n",
       " 'está',\n",
       " 'estamos',\n",
       " 'estão',\n",
       " 'estive',\n",
       " 'esteve',\n",
       " 'estivemos',\n",
       " 'estiveram',\n",
       " 'estava',\n",
       " 'estávamos',\n",
       " 'estavam',\n",
       " 'estivera',\n",
       " 'estivéramos',\n",
       " 'esteja',\n",
       " 'estejamos',\n",
       " 'estejam',\n",
       " 'estivesse',\n",
       " 'estivéssemos',\n",
       " 'estivessem',\n",
       " 'estiver',\n",
       " 'estivermos',\n",
       " 'estiverem',\n",
       " 'hei',\n",
       " 'há',\n",
       " 'havemos',\n",
       " 'hão',\n",
       " 'houve',\n",
       " 'houvemos',\n",
       " 'houveram',\n",
       " 'houvera',\n",
       " 'houvéramos',\n",
       " 'haja',\n",
       " 'hajamos',\n",
       " 'hajam',\n",
       " 'houvesse',\n",
       " 'houvéssemos',\n",
       " 'houvessem',\n",
       " 'houver',\n",
       " 'houvermos',\n",
       " 'houverem',\n",
       " 'houverei',\n",
       " 'houverá',\n",
       " 'houveremos',\n",
       " 'houverão',\n",
       " 'houveria',\n",
       " 'houveríamos',\n",
       " 'houveriam',\n",
       " 'sou',\n",
       " 'somos',\n",
       " 'são',\n",
       " 'era',\n",
       " 'éramos',\n",
       " 'eram',\n",
       " 'fui',\n",
       " 'foi',\n",
       " 'fomos',\n",
       " 'foram',\n",
       " 'fora',\n",
       " 'fôramos',\n",
       " 'seja',\n",
       " 'sejamos',\n",
       " 'sejam',\n",
       " 'fosse',\n",
       " 'fôssemos',\n",
       " 'fossem',\n",
       " 'for',\n",
       " 'formos',\n",
       " 'forem',\n",
       " 'serei',\n",
       " 'será',\n",
       " 'seremos',\n",
       " 'serão',\n",
       " 'seria',\n",
       " 'seríamos',\n",
       " 'seriam',\n",
       " 'tenho',\n",
       " 'tem',\n",
       " 'temos',\n",
       " 'tém',\n",
       " 'tinha',\n",
       " 'tínhamos',\n",
       " 'tinham',\n",
       " 'tive',\n",
       " 'teve',\n",
       " 'tivemos',\n",
       " 'tiveram',\n",
       " 'tivera',\n",
       " 'tivéramos',\n",
       " 'tenha',\n",
       " 'tenhamos',\n",
       " 'tenham',\n",
       " 'tivesse',\n",
       " 'tivéssemos',\n",
       " 'tivessem',\n",
       " 'tiver',\n",
       " 'tivermos',\n",
       " 'tiverem',\n",
       " 'terei',\n",
       " 'terá',\n",
       " 'teremos',\n",
       " 'terão',\n",
       " 'teria',\n",
       " 'teríamos',\n",
       " 'teriam']"
      ]
     },
     "execution_count": 11,
     "metadata": {},
     "output_type": "execute_result"
    }
   ],
   "source": [
    "stopwords.words(\"portuguese\")"
   ]
  },
  {
   "cell_type": "code",
   "execution_count": 12,
   "metadata": {},
   "outputs": [],
   "source": [
    "stops = stopwords.words(\"english\")"
   ]
  },
  {
   "cell_type": "code",
   "execution_count": 13,
   "metadata": {},
   "outputs": [],
   "source": [
    "mapa_cores = ListedColormap([\"orange\", \"green\", \"red\", \"magenta\"])"
   ]
  },
  {
   "cell_type": "code",
   "execution_count": 14,
   "metadata": {},
   "outputs": [],
   "source": [
    "nuvem = WordCloud(background_color=\"white\", colormap=mapa_cores, stopwords=stops, max_words=100)"
   ]
  },
  {
   "cell_type": "code",
   "execution_count": 15,
   "metadata": {},
   "outputs": [
    {
     "data": {
      "text/plain": [
       "<wordcloud.wordcloud.WordCloud at 0x2688d0f45c0>"
      ]
     },
     "execution_count": 15,
     "metadata": {},
     "output_type": "execute_result"
    }
   ],
   "source": [
    "nuvem.generate(texto_inteiro)"
   ]
  },
  {
   "cell_type": "code",
   "execution_count": 16,
   "metadata": {},
   "outputs": [
    {
     "data": {
      "text/plain": [
       "<matplotlib.image.AxesImage at 0x2688d13e198>"
      ]
     },
     "execution_count": 16,
     "metadata": {},
     "output_type": "execute_result"
    },
    {
     "data": {
      "image/png": "[encoded data removed]",
      "text/plain": [
       "<Figure size 432x288 with 1 Axes>"
      ]
     },
     "metadata": {
      "needs_background": "light"
     },
     "output_type": "display_data"
    }
   ],
   "source": [
    "plt.imshow(nuvem)"
   ]
  },
  {
   "cell_type": "code",
   "execution_count": 17,
   "metadata": {},
   "outputs": [
    {
     "data": {
      "text/plain": [
       "189446"
      ]
     },
     "execution_count": 17,
     "metadata": {},
     "output_type": "execute_result"
    }
   ],
   "source": [
    "palavras_sem_stop = [p for p in palavras if p not in stops]\n",
    "len(palavras_sem_stop)"
   ]
  },
  {
   "cell_type": "code",
   "execution_count": 18,
   "metadata": {},
   "outputs": [
    {
     "data": {
      "text/plain": [
       "156687"
      ]
     },
     "execution_count": 18,
     "metadata": {},
     "output_type": "execute_result"
    }
   ],
   "source": [
    "palavras_sem_pontuacao = [p for p in palavras_sem_stop if p not in string.punctuation]\n",
    "len(palavras_sem_pontuacao )"
   ]
  },
  {
   "cell_type": "code",
   "execution_count": 19,
   "metadata": {},
   "outputs": [
    {
     "data": {
      "text/plain": [
       "FreqDist({'said': 3398, 'mln': 2721, '3': 2228, 'vs': 2194, '0': 1949, 'dlrs': 1945, '1': 1661, '000': 1640, '&#': 1466, \";',\": 1432, ...})"
      ]
     },
     "execution_count": 19,
     "metadata": {},
     "output_type": "execute_result"
    }
   ],
   "source": [
    "frequencia = nltk.FreqDist(palavras_sem_pontuacao)\n",
    "frequencia"
   ]
  },
  {
   "cell_type": "code",
   "execution_count": 20,
   "metadata": {},
   "outputs": [
    {
     "data": {
      "text/plain": [
       "[('said', 3398),\n",
       " ('mln', 2721),\n",
       " ('3', 2228),\n",
       " ('vs', 2194),\n",
       " ('0', 1949),\n",
       " ('dlrs', 1945),\n",
       " ('1', 1661),\n",
       " ('000', 1640),\n",
       " ('&#', 1466),\n",
       " (\";',\", 1432),\n",
       " ('The', 1429),\n",
       " ('cts', 1374),\n",
       " ('lt', 1286),\n",
       " ('Reuter', 1214),\n",
       " ('pct', 1146),\n",
       " ('2', 1001),\n",
       " ('year', 878),\n",
       " ('U', 833),\n",
       " ('loss', 800),\n",
       " ('S', 794),\n",
       " ('billion', 707),\n",
       " ('5', 674),\n",
       " ('1986', 666),\n",
       " ('would', 638),\n",
       " ('4', 633),\n",
       " ('company', 518),\n",
       " ('share', 513),\n",
       " ('6', 505),\n",
       " ('profit', 498),\n",
       " ('Net', 486),\n",
       " ('7', 469),\n",
       " ('Shr', 456),\n",
       " ('8', 440),\n",
       " ('March', 439),\n",
       " ('net', 401),\n",
       " ('9', 393),\n",
       " ('Revs', 392),\n",
       " ('one', 390),\n",
       " ('Inc', 385),\n",
       " ('last', 380),\n",
       " ('tonnes', 361),\n",
       " ('market', 357),\n",
       " ('also', 355),\n",
       " ('shares', 351),\n",
       " ('per', 347),\n",
       " ('two', 340),\n",
       " ('stock', 339),\n",
       " ('oil', 328),\n",
       " ('prices', 325),\n",
       " ('10', 315),\n",
       " ('1985', 309),\n",
       " ('QTR', 300),\n",
       " ('1987', 298),\n",
       " ('31', 295),\n",
       " ('It', 294),\n",
       " ('trade', 290),\n",
       " ('quarter', 284),\n",
       " ('Corp', 277),\n",
       " ('12', 272),\n",
       " ('January', 272),\n",
       " ('15', 271),\n",
       " ('April', 244),\n",
       " ('Oper', 244),\n",
       " ('TO', 240),\n",
       " ('Bank', 240),\n",
       " ('February', 236),\n",
       " ('NET', 229),\n",
       " ('price', 229),\n",
       " ('REUTER', 227),\n",
       " ('16', 223),\n",
       " ('13', 222),\n",
       " ('He', 217),\n",
       " ('new', 216),\n",
       " ('25', 216),\n",
       " ('week', 215),\n",
       " ('A', 214),\n",
       " ('INC', 213),\n",
       " ('offer', 210),\n",
       " ('20', 208),\n",
       " ('December', 206),\n",
       " ('50', 205),\n",
       " ('rate', 205),\n",
       " ('rose', 200),\n",
       " ('three', 198),\n",
       " ('today', 196),\n",
       " ('4TH', 195),\n",
       " ('In', 191),\n",
       " ('sales', 191),\n",
       " ('Co', 189),\n",
       " ('five', 187),\n",
       " ('30', 187),\n",
       " ('group', 187),\n",
       " ('--', 183),\n",
       " ('expected', 179),\n",
       " ('government', 178),\n",
       " ('shr', 174),\n",
       " ('total', 173),\n",
       " ('IN', 173),\n",
       " ('common', 172),\n",
       " ('dlr', 171)]"
      ]
     },
     "execution_count": 20,
     "metadata": {},
     "output_type": "execute_result"
    }
   ],
   "source": [
    "mais_comuns = frequencia.most_common(100)\n",
    "mais_comuns"
   ]
  }
 ],
 "metadata": {
  "kernelspec": {
   "display_name": "Python 3",
   "language": "python",
   "name": "python3"
  },
  "language_info": {
   "codemirror_mode": {
    "name": "ipython",
    "version": 3
   },
   "file_extension": ".py",
   "mimetype": "text/x-python",
   "name": "python",
   "nbconvert_exporter": "python",
   "pygments_lexer": "ipython3",
   "version": "3.7.3"
  }
 },
 "nbformat": 4,
 "nbformat_minor": 4
}
